{
  "nbformat": 4,
  "nbformat_minor": 0,
  "metadata": {
    "colab": {
      "provenance": [],
      "authorship_tag": "ABX9TyOlqc1KpMiC8qElileg3Fat",
      "include_colab_link": true
    },
    "kernelspec": {
      "name": "python3",
      "display_name": "Python 3"
    },
    "language_info": {
      "name": "python"
    }
  },
  "cells": [
    {
      "cell_type": "markdown",
      "metadata": {
        "id": "view-in-github",
        "colab_type": "text"
      },
      "source": [
        "<a href=\"https://colab.research.google.com/github/mehrabopee/pythonpractice/blob/main/GUI_app.ipynb\" target=\"_parent\"><img src=\"https://colab.research.google.com/assets/colab-badge.svg\" alt=\"Open In Colab\"/></a>"
      ]
    },
    {
      "cell_type": "code",
      "execution_count": 45,
      "metadata": {
        "colab": {
          "base_uri": "https://localhost:8080/"
        },
        "id": "VrIaITOTErEu",
        "outputId": "6e4237a1-96b0-4106-cf33-7f8f102b0ff5"
      },
      "outputs": [
        {
          "output_type": "stream",
          "name": "stdout",
          "text": [
            "Opee\n",
            "1st option\n",
            "1st option\n"
          ]
        }
      ],
      "source": [
        "#@title New string fields {run:\"auto\"}\n",
        "text = 'Opee' #@param {type:\"string\"}\n",
        "dropdown = '1st option' #@param [\"1st option\",\"2nd option\",\"3rd option\"]\n",
        "text_and_dropdown = '1st option' #@param [\"1st option\",\"2nd option\",\"3rd option\"]{allow-input: true}\n",
        "print(text)\n",
        "print(dropdown)\n",
        "print(text_and_dropdown)"
      ]
    },
    {
      "cell_type": "code",
      "source": [
        "#@title New raw fields {run:\"auto\"}\n",
        "\n",
        "raw_input = 420 #@param {type:\"raw\"}\n",
        "raw_dropdown = 1 #@param [1,\"raw_input\",\"True\",\"'Hello World'\"]{type:\"raw\"}\n",
        "\n",
        "print(raw_input)\n",
        "print(raw_dropdown)"
      ],
      "metadata": {
        "colab": {
          "base_uri": "https://localhost:8080/"
        },
        "id": "_UloPshsE7pi",
        "outputId": "eb8b5483-4f35-404f-90eb-a71afe13034c"
      },
      "execution_count": 38,
      "outputs": [
        {
          "output_type": "stream",
          "name": "stdout",
          "text": [
            "420\n",
            "1\n"
          ]
        }
      ]
    },
    {
      "cell_type": "code",
      "source": [
        "#@title Date fields {run:\"auto\"}\n",
        "\n",
        "Date = '2023-09-23'#@param {type:\"date\"}\n",
        "\n",
        "print(Date)"
      ],
      "metadata": {
        "colab": {
          "base_uri": "https://localhost:8080/"
        },
        "id": "t0OwiSE-FXlG",
        "outputId": "1407d1d3-6d80-4d49-8ba5-9ab90e95a7ef"
      },
      "execution_count": 27,
      "outputs": [
        {
          "output_type": "stream",
          "name": "stdout",
          "text": [
            "2023-09-23\n"
          ]
        }
      ]
    },
    {
      "cell_type": "code",
      "source": [
        "#@title Number fields {run:\"auto\"}\n",
        "\n",
        "number_input = 10.0 #@param {type:\"number\"}\n",
        "number_slider = 0 #@param {type:\"slider\", min:-1, max:1, step:0.1}\n",
        "\n",
        "integer_input = 1 #@param {type:\"integer\"}\n",
        "integer_slider = -49 #@param {type:\"slider\",min:-100,max:100,step:1}\n",
        "\n",
        "print(number_input)\n",
        "print(number_slider)\n",
        "print(integer_input)\n",
        "print(integer_slider)"
      ],
      "metadata": {
        "colab": {
          "base_uri": "https://localhost:8080/"
        },
        "id": "LjL1wmoPXwtZ",
        "outputId": "63720661-5e80-46c0-d919-6aa09d8976ac"
      },
      "execution_count": 24,
      "outputs": [
        {
          "output_type": "stream",
          "name": "stdout",
          "text": [
            "10.0\n",
            "0\n",
            "1\n",
            "-49\n"
          ]
        }
      ]
    },
    {
      "cell_type": "code",
      "source": [
        "#@title Boolean fields {run:\"auto\"}\n",
        "\n",
        "boolean_checkbox = False #@param {type:\"boolean\"}\n",
        "boolean_dropdown = False #@param [\"True\",\"False\"] {type:\"raw\"}\n",
        "\n",
        "print(boolean_checkbox)\n",
        "print(boolean_dropdown)"
      ],
      "metadata": {
        "colab": {
          "base_uri": "https://localhost:8080/"
        },
        "id": "8ECjmsw4eepE",
        "outputId": "a9c15883-34c5-402d-d130-99f1dae7721c"
      },
      "execution_count": 21,
      "outputs": [
        {
          "output_type": "stream",
          "name": "stdout",
          "text": [
            "False\n",
            "False\n"
          ]
        }
      ]
    }
  ]
}